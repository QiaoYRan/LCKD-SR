{
 "cells": [
  {
   "cell_type": "code",
   "execution_count": 2,
   "metadata": {},
   "outputs": [],
   "source": [
    "import os\n",
    "import pickle\n",
    "import jsonlines\n",
    "import pandas as pd\n",
    "import numpy as np\n",
    "import json\n",
    "import copy\n",
    "from tqdm import tqdm"
   ]
  },
  {
   "cell_type": "code",
   "execution_count": 3,
   "metadata": {},
   "outputs": [],
   "source": [
    "prompt_template = \"The beauty item has following attributes: \\n Its name is <TITLE>; Its brand is <BRAND>; Its price is <PRICE> dollars. \\n\"\n",
    "feat_template = \"This item belongs to the following categories: <CATEGORIES>. \\n\"\n",
    "desc_template = \"This item has the following description: <DESCRIPTION>. \\n\""
   ]
  },
  {
   "cell_type": "code",
   "execution_count": 4,
   "metadata": {},
   "outputs": [],
   "source": [
    "data = json.load(open(\"./processed/item2attributes.json\", \"r\"))"
   ]
  },
  {
   "cell_type": "code",
   "execution_count": 5,
   "metadata": {},
   "outputs": [],
   "source": [
    "all_feats = []\n",
    "\n",
    "for user, user_attris in data.items():\n",
    "    for feat_name in user_attris.keys():\n",
    "        if feat_name not in all_feats:\n",
    "            all_feats.append(feat_name)"
   ]
  },
  {
   "cell_type": "code",
   "execution_count": 6,
   "metadata": {},
   "outputs": [
    {
     "name": "stdout",
     "output_type": "stream",
     "text": [
      "['asin', 'related', 'title', 'price', 'salesRank', 'imUrl', 'brand', 'categories', 'description']\n"
     ]
    }
   ],
   "source": [
    "print(all_feats)"
   ]
  },
  {
   "cell_type": "code",
   "execution_count": 7,
   "metadata": {},
   "outputs": [],
   "source": [
    "def get_attri(item_str, attri, item_info):\n",
    "\n",
    "    if attri not in item_info.keys():\n",
    "        new_str = item_str.replace(f\"<{attri.upper()}>\", \"unknown\")\n",
    "    else:\n",
    "        new_str = item_str.replace(f\"<{attri.upper()}>\", str(item_info[attri]))\n",
    "\n",
    "    return new_str"
   ]
  },
  {
   "cell_type": "code",
   "execution_count": 8,
   "metadata": {},
   "outputs": [],
   "source": [
    "def get_feat(item_str, feat, item_info):\n",
    "\n",
    "    if feat not in item_info.keys():\n",
    "        return \"\"\n",
    "    \n",
    "    assert isinstance(item_info[feat], list)\n",
    "    feat_str = \"\"\n",
    "    for meta_feat in item_info[feat][0]:\n",
    "        feat_str = feat_str + meta_feat + \"; \"\n",
    "    new_str = item_str.replace(f\"<{feat.upper()}>\", feat_str)\n",
    "\n",
    "    if len(new_str) > 2048: # avoid exceed the input length limitation\n",
    "        return new_str[:2048]\n",
    "\n",
    "    return new_str"
   ]
  },
  {
   "cell_type": "code",
   "execution_count": 9,
   "metadata": {},
   "outputs": [
    {
     "name": "stderr",
     "output_type": "stream",
     "text": [
      "  0%|          | 0/57289 [00:00<?, ?it/s]"
     ]
    },
    {
     "name": "stderr",
     "output_type": "stream",
     "text": [
      "100%|██████████| 57289/57289 [00:00<00:00, 95626.68it/s]\n"
     ]
    }
   ],
   "source": [
    "item_data = {}\n",
    "for key, value in tqdm(data.items()):\n",
    "    item_str = copy.deepcopy(prompt_template)\n",
    "    item_str = get_attri(item_str, \"title\", value)\n",
    "    item_str = get_attri(item_str, \"brand\", value)\n",
    "    item_str = get_attri(item_str, \"date\", value)\n",
    "    item_str = get_attri(item_str, \"price\", value)\n",
    "\n",
    "    feat_str = copy.deepcopy(feat_template)\n",
    "    feat_str = get_feat(feat_str, \"categories\", value)\n",
    "    desc_str = copy.deepcopy(desc_template)\n",
    "    desc_str = get_attri(desc_str, \"description\", value)\n",
    "    \n",
    "    item_data[key] = item_str + feat_str + desc_str"
   ]
  },
  {
   "cell_type": "code",
   "execution_count": 22,
   "metadata": {},
   "outputs": [
    {
     "data": {
      "text/plain": [
       "'The beauty item has following attributes: \\n Its name is NEW EUROPEAN COLLECTION Too Faced Natural Eyes Shadow Palette 9 Colors; Its brand is Omagazee; Its price is 33.99 dollars. \\nThis item belongs to the following categories: Beauty; Makeup; Eyes; Eye Shadow; . \\nThis item has the following description: Too Faced *Natural Eyes Shadow Palette* \\n\\nColors include: Heaven, Silk Teddy, Nude Beach, Velvet Revolver, Push-up, Honey Pot, Sexspresso, Erotica, and Cocoa Puff. \\n\\nCollectible tin version \\n\\nNew in Box \\n\\nFull Size. \\n'"
      ]
     },
     "execution_count": 22,
     "metadata": {},
     "output_type": "execute_result"
    }
   ],
   "source": [
    "item_data[\"1304351475\"]\n"
   ]
  },
  {
   "cell_type": "code",
   "execution_count": 15,
   "metadata": {},
   "outputs": [
    {
     "data": {
      "text/plain": [
       "{'asin': '1304351475',\n",
       " 'related': {'also_bought': ['B00AVUE1S6',\n",
       "   'B00AYCOLMC',\n",
       "   'B0013CSGBE',\n",
       "   'B004FM6L0C',\n",
       "   'B00C8TMB2Q',\n",
       "   'B006JZ0L7C',\n",
       "   'B0057N3OOY',\n",
       "   'B002DP19ZU',\n",
       "   'B0057N3TPS',\n",
       "   'B006JZ0IRA',\n",
       "   'B004YUIR9I',\n",
       "   'B005628FD6',\n",
       "   'B004C86GU4',\n",
       "   'B003TNVSTW',\n",
       "   'B004C9TJ3O',\n",
       "   'B00FH2I5OE',\n",
       "   'B00591JKVA',\n",
       "   'B008PQ5YHK',\n",
       "   'B002DP75R6',\n",
       "   'B00EU6NK66',\n",
       "   'B00IPQO0W0',\n",
       "   'B006HMARMG',\n",
       "   'B003TNY0WE',\n",
       "   'B0092GWSFS',\n",
       "   'B00AVUDTW0',\n",
       "   'B00DJC5HK4',\n",
       "   'B00GR4TPW2',\n",
       "   'B00ITCAR40',\n",
       "   'B00L76XBCK',\n",
       "   'B008FK6VUA',\n",
       "   'B0046NPGZQ',\n",
       "   'B00BUO40VA',\n",
       "   'B00DO40YXM',\n",
       "   'B006HRVFMM',\n",
       "   'B008JBIH9I',\n",
       "   'B002DP1A18',\n",
       "   'B00AMYNT8E',\n",
       "   'B00D6DJGOE',\n",
       "   'B0072CVHJC',\n",
       "   'B00BUO4164',\n",
       "   'B001P72H9O',\n",
       "   'B004TSFE28',\n",
       "   'B006GK5ZEY',\n",
       "   'B006L7SF4O',\n",
       "   'B0092SVTGA',\n",
       "   'B007SEEAEI',\n",
       "   'B00FPW9BEO',\n",
       "   'B009GLQG6Q',\n",
       "   'B005OZFV50',\n",
       "   'B007HKOVGA',\n",
       "   'B0030HMQTS',\n",
       "   'B005OZJYUS',\n",
       "   'B007GMJ8Z8',\n",
       "   'B005OZF1S2',\n",
       "   'B006JZ0IK2',\n",
       "   'B006KTTGC8',\n",
       "   'B006HCJXBM',\n",
       "   'B007HKOVIS',\n",
       "   'B005P0M69I',\n",
       "   'B00BWVX0JY',\n",
       "   'B001285QTE',\n",
       "   'B008DLT9H8',\n",
       "   'B0072CWK9S',\n",
       "   'B008VV3HD2',\n",
       "   'B004L6DE3Y',\n",
       "   'B00HHA4DL8',\n",
       "   'B0078H4GXU',\n",
       "   'B00G5EZI3E',\n",
       "   'B003UH0528',\n",
       "   'B006K3UXTE',\n",
       "   'B004JKIY4G',\n",
       "   'B003QUONE0',\n",
       "   'B00L74HLF0',\n",
       "   'B001HKR6WM',\n",
       "   'B00BTMXJOW',\n",
       "   'B00LXFFAB0',\n",
       "   'B0019WFWMY',\n",
       "   'B001AC0LK6',\n",
       "   'B005UJLTXI',\n",
       "   'B00BKHN680',\n",
       "   'B000MIR7TM',\n",
       "   'B000FBF58G',\n",
       "   'B004QS0E0S',\n",
       "   'B00C4RJ3B4',\n",
       "   'B004ZR9H2G',\n",
       "   'B003EBNLIA',\n",
       "   'B007HKOVHO',\n",
       "   'B00EYZR3E8',\n",
       "   'B00BP6A4N6',\n",
       "   'B004E4CC0E',\n",
       "   'B004TSFBNK'],\n",
       "  'also_viewed': ['B00AVUE1S6',\n",
       "   'B0057N3TPS',\n",
       "   'B004FM6L0C',\n",
       "   'B003TNVSTW',\n",
       "   'B00IA6DRS8',\n",
       "   'B006JZ0L7C',\n",
       "   'B002DP19ZU',\n",
       "   'B0057N3OOY',\n",
       "   'B00AYCOLMC',\n",
       "   'B004YUIR9I',\n",
       "   'B008JBIH9I',\n",
       "   'B006JZ0IRA',\n",
       "   'B002L99WPM',\n",
       "   'B008PQ5YHK',\n",
       "   'B006HRVFMM',\n",
       "   'B00HZI3N18',\n",
       "   'B00JCVIKU0',\n",
       "   'B00ITCAR40',\n",
       "   'B00J8SHOUE',\n",
       "   'B00FH2L9EC',\n",
       "   'B0046NJH88',\n",
       "   'B00FH2I5OE',\n",
       "   'B00DJC5HK4',\n",
       "   'B00BTMXJOW',\n",
       "   'B00FPW9BEO',\n",
       "   'B001MPWO5G',\n",
       "   'B00DO3QN7E',\n",
       "   'B00HMRDHFO',\n",
       "   'B00591JKVA',\n",
       "   'B006HMARMG',\n",
       "   'B0046NPGZQ',\n",
       "   'B00L0I8I9Q',\n",
       "   'B0013CSGBE',\n",
       "   'B00AVUDTW0',\n",
       "   'B004O13Q98',\n",
       "   'B002DP1A18',\n",
       "   'B004Y007K0',\n",
       "   'B00G5EZI3E',\n",
       "   'B00FH7TQW4',\n",
       "   'B00HRF3ZDU',\n",
       "   'B00J8T8TPC',\n",
       "   'B0050PQGNK',\n",
       "   'B009P0KAN8',\n",
       "   'B008FK6VUA',\n",
       "   'B00IP8QYN6',\n",
       "   'B007HKOVGA',\n",
       "   'B00HRF7NK6',\n",
       "   'B002DP75R6',\n",
       "   'B004CN2996',\n",
       "   'B00FSCSAL6',\n",
       "   'B00BRYFB1Q',\n",
       "   'B00BUO4164',\n",
       "   'B00HREXHGQ'],\n",
       "  'bought_together': ['B00AVUE1S6', 'B0013CSGBE']},\n",
       " 'title': 'NEW EUROPEAN COLLECTION Too Faced Natural Eyes Shadow Palette 9 Colors',\n",
       " 'price': 33.99,\n",
       " 'salesRank': {'Beauty': 15567},\n",
       " 'imUrl': 'http://ecx.images-amazon.com/images/I/519-RK1YMyL._SY300_.jpg',\n",
       " 'brand': 'Omagazee',\n",
       " 'categories': [['Beauty', 'Makeup', 'Eyes', 'Eye Shadow']],\n",
       " 'description': 'Too Faced *Natural Eyes Shadow Palette* \\n\\nColors include: Heaven, Silk Teddy, Nude Beach, Velvet Revolver, Push-up, Honey Pot, Sexspresso, Erotica, and Cocoa Puff. \\n\\nCollectible tin version \\n\\nNew in Box \\n\\nFull Size'}"
      ]
     },
     "execution_count": 15,
     "metadata": {},
     "output_type": "execute_result"
    }
   ],
   "source": [
    "data[\"1304351475\"]"
   ]
  },
  {
   "cell_type": "code",
   "execution_count": null,
   "metadata": {},
   "outputs": [],
   "source": [
    "json.dump(item_data, open(\"./processed/item_str.json\", \"w\"))"
   ]
  },
  {
   "cell_type": "code",
   "execution_count": 10,
   "metadata": {},
   "outputs": [
    {
     "ename": "FileNotFoundError",
     "evalue": "[Errno 2] No such file or directory: './processed/item_str.json'",
     "output_type": "error",
     "traceback": [
      "\u001b[0;31m---------------------------------------------------------------------------\u001b[0m",
      "\u001b[0;31mFileNotFoundError\u001b[0m                         Traceback (most recent call last)",
      "Cell \u001b[0;32mIn[10], line 1\u001b[0m\n\u001b[0;32m----> 1\u001b[0m item_data \u001b[38;5;241m=\u001b[39m json\u001b[38;5;241m.\u001b[39mload(\u001b[38;5;28;43mopen\u001b[39;49m\u001b[43m(\u001b[49m\u001b[38;5;124;43m\"\u001b[39;49m\u001b[38;5;124;43m./processed/item_str.json\u001b[39;49m\u001b[38;5;124;43m\"\u001b[39;49m\u001b[43m,\u001b[49m\u001b[43m \u001b[49m\u001b[38;5;124;43m\"\u001b[39;49m\u001b[38;5;124;43mr\u001b[39;49m\u001b[38;5;124;43m\"\u001b[39;49m\u001b[43m)\u001b[49m)\n",
      "File \u001b[0;32m~/miniconda3/envs/llm-esr/lib/python3.10/site-packages/IPython/core/interactiveshell.py:324\u001b[0m, in \u001b[0;36m_modified_open\u001b[0;34m(file, *args, **kwargs)\u001b[0m\n\u001b[1;32m    317\u001b[0m \u001b[38;5;28;01mif\u001b[39;00m file \u001b[38;5;129;01min\u001b[39;00m {\u001b[38;5;241m0\u001b[39m, \u001b[38;5;241m1\u001b[39m, \u001b[38;5;241m2\u001b[39m}:\n\u001b[1;32m    318\u001b[0m     \u001b[38;5;28;01mraise\u001b[39;00m \u001b[38;5;167;01mValueError\u001b[39;00m(\n\u001b[1;32m    319\u001b[0m         \u001b[38;5;124mf\u001b[39m\u001b[38;5;124m\"\u001b[39m\u001b[38;5;124mIPython won\u001b[39m\u001b[38;5;124m'\u001b[39m\u001b[38;5;124mt let you open fd=\u001b[39m\u001b[38;5;132;01m{\u001b[39;00mfile\u001b[38;5;132;01m}\u001b[39;00m\u001b[38;5;124m by default \u001b[39m\u001b[38;5;124m\"\u001b[39m\n\u001b[1;32m    320\u001b[0m         \u001b[38;5;124m\"\u001b[39m\u001b[38;5;124mas it is likely to crash IPython. If you know what you are doing, \u001b[39m\u001b[38;5;124m\"\u001b[39m\n\u001b[1;32m    321\u001b[0m         \u001b[38;5;124m\"\u001b[39m\u001b[38;5;124myou can use builtins\u001b[39m\u001b[38;5;124m'\u001b[39m\u001b[38;5;124m open.\u001b[39m\u001b[38;5;124m\"\u001b[39m\n\u001b[1;32m    322\u001b[0m     )\n\u001b[0;32m--> 324\u001b[0m \u001b[38;5;28;01mreturn\u001b[39;00m \u001b[43mio_open\u001b[49m\u001b[43m(\u001b[49m\u001b[43mfile\u001b[49m\u001b[43m,\u001b[49m\u001b[43m \u001b[49m\u001b[38;5;241;43m*\u001b[39;49m\u001b[43margs\u001b[49m\u001b[43m,\u001b[49m\u001b[43m \u001b[49m\u001b[38;5;241;43m*\u001b[39;49m\u001b[38;5;241;43m*\u001b[39;49m\u001b[43mkwargs\u001b[49m\u001b[43m)\u001b[49m\n",
      "\u001b[0;31mFileNotFoundError\u001b[0m: [Errno 2] No such file or directory: './processed/item_str.json'"
     ]
    }
   ],
   "source": [
    "item_data = json.load(open(\"./processed/item_str.json\", \"r\"))"
   ]
  },
  {
   "cell_type": "code",
   "execution_count": null,
   "metadata": {},
   "outputs": [],
   "source": [
    "import jsonlines\n",
    "\n",
    "def save_data(data_path, data):\n",
    "    '''write all_data list to a new jsonl'''\n",
    "    with jsonlines.open(\"./handled/\"+ data_path, \"w\") as w:\n",
    "        for meta_data in data:\n",
    "            w.write(meta_data)\n",
    "\n",
    "id_map = json.load(open(\"./handled/id_map.json\", \"r\"))[\"item2id\"]\n",
    "json_data = []\n",
    "for key, value in item_data.items():\n",
    "    json_data.append({\"input\": value, \"target\": \"\", \"item\": key, \"item_id\": id_map[key]})\n",
    "\n",
    "save_data(\"item_str.jsonline\", json_data)"
   ]
  },
  {
   "cell_type": "code",
   "execution_count": null,
   "metadata": {},
   "outputs": [],
   "source": [
    "import requests\n",
    "import json\n",
    "\n",
    "url = \"\"\n",
    "\n",
    "payload = json.dumps({\n",
    "   \"model\": \"text-embedding-ada-002\",\n",
    "   \"input\": \"The food was delicious and the waiter...\"\n",
    "})\n",
    "headers = {\n",
    "   'Authorization': '',\n",
    "   'User-Agent': 'Apifox/1.0.0 (https://apifox.com)',\n",
    "   'Content-Type': 'application/json'\n",
    "}\n",
    "\n",
    "response = requests.request(\"POST\", url, headers=headers, data=payload)\n",
    "\n",
    "print(response.text)"
   ]
  },
  {
   "cell_type": "code",
   "execution_count": null,
   "metadata": {},
   "outputs": [],
   "source": [
    "def get_response(prompt):\n",
    "    url = \"\"\n",
    "\n",
    "    payload = json.dumps({\n",
    "    \"model\": \"text-embedding-ada-002\",\n",
    "    \"input\": prompt\n",
    "    })\n",
    "    headers = {\n",
    "    'Authorization': '',\n",
    "    'User-Agent': 'Apifox/1.0.0 (https://apifox.com)',\n",
    "    'Content-Type': 'application/json'\n",
    "    }\n",
    "\n",
    "    response = requests.request(\"POST\", url, headers=headers, data=payload)\n",
    "    re_json = json.loads(response.text)\n",
    "\n",
    "    return re_json[\"data\"][0][\"embedding\"]"
   ]
  },
  {
   "cell_type": "code",
   "execution_count": null,
   "metadata": {},
   "outputs": [],
   "source": [
    "item_emb = {}"
   ]
  },
  {
   "cell_type": "code",
   "execution_count": null,
   "metadata": {},
   "outputs": [],
   "source": [
    "value_list = []\n",
    "\n",
    "for key, value in tqdm(item_data.items()):\n",
    "    if len(value) > 4096:\n",
    "        value_list.append(key)"
   ]
  },
  {
   "cell_type": "code",
   "execution_count": null,
   "metadata": {},
   "outputs": [],
   "source": [
    "if os.path.exists(\"./handled/item_emb.pkl\"):    # check whether some item emb exist in cache\n",
    "    item_emb = pickle.load(open(\"./handled/item_emb.pkl\", \"rb\"))"
   ]
  },
  {
   "cell_type": "code",
   "execution_count": null,
   "metadata": {},
   "outputs": [],
   "source": [
    "count = 1\n",
    "while 1:    # avoid broken due to internet connection\n",
    "    if len(item_emb) == len(item_data):\n",
    "        break\n",
    "    try:\n",
    "        for key, value in tqdm(item_data.items()):\n",
    "            if key not in item_emb.keys():\n",
    "                if len(value) > 4096:\n",
    "                    value = value[:4095]\n",
    "                item_emb[key] = get_response(value)\n",
    "                count += 1\n",
    "    except:\n",
    "        pickle.dump(item_emb, open(\"./handled/item_emb.pkl\", \"wb\"))\n",
    "    "
   ]
  },
  {
   "cell_type": "code",
   "execution_count": null,
   "metadata": {},
   "outputs": [],
   "source": [
    "len(item_emb)"
   ]
  },
  {
   "cell_type": "code",
   "execution_count": null,
   "metadata": {},
   "outputs": [],
   "source": [
    "id_map = json.load(open(\"./handled/id_map.json\", \"r\"))[\"id2item\"]\n",
    "emb_list = []\n",
    "for id in range(1, len(item_emb)+1):\n",
    "    meta_emb = item_emb[id_map[str(id)]]\n",
    "    emb_list.append(meta_emb)\n",
    "\n",
    "emb_list = np.array(emb_list)\n",
    "pickle.dump(emb_list, open(\"./handled/itm_emb_np.pkl\", \"wb\"))"
   ]
  }
 ],
 "metadata": {
  "kernelspec": {
   "display_name": "llm",
   "language": "python",
   "name": "python3"
  },
  "language_info": {
   "codemirror_mode": {
    "name": "ipython",
    "version": 3
   },
   "file_extension": ".py",
   "mimetype": "text/x-python",
   "name": "python",
   "nbconvert_exporter": "python",
   "pygments_lexer": "ipython3",
   "version": "3.10.14"
  },
  "orig_nbformat": 4
 },
 "nbformat": 4,
 "nbformat_minor": 2
}
